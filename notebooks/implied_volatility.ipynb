{
 "cells": [
  {
   "cell_type": "code",
   "execution_count": null,
   "id": "b18f0375",
   "metadata": {},
   "outputs": [],
   "source": [
    "import numpy as np\n",
    "import matplotlib.pyplot as plt\n",
    "import matplotlib.ticker as mtick\n",
    "\n",
    "import sys\n",
    "sys.path.append('../src')\n",
    "import monte_carlo as mc\n",
    "import black_scholes as bs\n",
    "import binomial_tree as bt\n",
    "import payoff as po\n",
    "from scipy.optimize import root_scalar\n",
    "\n",
    "import pandas as pd\n",
    "import yfinance as yf\n",
    "import datetime as dt"
   ]
  },
  {
   "cell_type": "markdown",
   "id": "7abbb927",
   "metadata": {},
   "source": [
    "Work in progress!"
   ]
  },
  {
   "cell_type": "code",
   "execution_count": null,
   "id": "a4aac1eb",
   "metadata": {},
   "outputs": [],
   "source": [
    "ticker = yf.Ticker(\"AMZN\")\n",
    "chain = ticker.option_chain(ticker.options[10])  # farthest expiry\n",
    "calls = chain.calls\n",
    "\n",
    "\n",
    "S = ticker.history(period=\"1d\")[\"Close\"].iloc[-1]   \n",
    "K = np.array(calls.iloc[:,2])                              \n",
    "expiry = pd.to_datetime(ticker.options[10])        \n",
    "today = pd.Timestamp.today().normalize()\n",
    "T = (expiry - today).days / 365                    \n",
    "r = 0.00                                         \n",
    "price = (calls.iloc[:,4]+calls.iloc[:,5])/2;\n",
    "# price = calls.iloc[:,3]\n",
    "impV = np.array(calls.iloc[:,10])       \n",
    "res= []\n",
    "for i in range(0,len(K)):\n",
    "    res.append(bs.implied_vol(S, K[i] ,r, 0, T, 'call',price[i]))\n",
    "res = np.array(res)\n",
    "\n",
    "plt.plot(K/S, res, marker='o',color='blue',label='Model')\n",
    "plt.plot(K/S, impV, marker='o',color='red',label='Market (yfinance)')\n",
    "plt.xlabel(r'$K/S_0 $')\n",
    "plt.ylabel('Implied volatility')\n",
    "plt.title(\"Implied volatility as a function of moneyness\\n AMZN, Exp: \" +ticker.options[10]  + \", r=0, q=0\",fontsize = '10')\n",
    "plt.legend()\n",
    "plt.grid(True)"
   ]
  },
  {
   "cell_type": "code",
   "execution_count": null,
   "id": "2a518be4",
   "metadata": {},
   "outputs": [],
   "source": [
    "plt.plot(K/S, abs(1-res/impV), marker='o',color='blue',label='Model')\n",
    "plt.yscale('log')   # log scale on y-axis\n",
    "plt.xlabel(r'$K/S_0 $')\n",
    "plt.ylabel(r'$\\left| 1-v_{\\text{model}}/v_{\\text{market}}\\right|$')\n",
    "plt.title(\"Implied volatility as a function of moneyness\\n AMZN, Exp: \" +ticker.options[10]  + \", r=0, q=0\",fontsize = '10')\n",
    "plt.legend()\n",
    "plt.grid(True)"
   ]
  }
 ],
 "metadata": {
  "language_info": {
   "name": "python"
  }
 },
 "nbformat": 4,
 "nbformat_minor": 5
}
