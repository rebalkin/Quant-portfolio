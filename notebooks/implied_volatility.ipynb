{
 "cells": [
  {
   "cell_type": "code",
   "execution_count": null,
   "id": "f5ff2c9a",
   "metadata": {},
   "outputs": [],
   "source": [
    "ticker = yf.Ticker(\"AAPL\")\n",
    "chain = ticker.option_chain(ticker.options[-1])  # farthest expiry\n",
    "calls = chain.calls\n",
    "\n",
    "row = calls.iloc[0]  # first row of calls DataFrame\n",
    "\n",
    "S = ticker.history(period=\"1d\")[\"Close\"].iloc[-1]   \n",
    "K = np.array(calls.iloc[:,2])                              \n",
    "expiry = pd.to_datetime(ticker.options[-1])        \n",
    "today = pd.Timestamp.today().normalize()\n",
    "T = (expiry - today).days / 365                    \n",
    "r = 0.03                                         \n",
    "price = (calls.iloc[:,4]+calls.iloc[:,5])/2;\n",
    "impV = np.array(calls.iloc[:,10])       \n",
    "\n",
    "div = ticker.dividends.tz_localize(None)\n",
    "ttm = div[div.index >= pd.Timestamp.today().normalize()-pd.Timedelta(days=365)].sum()\n",
    "q_ttm = float(ttm / S) "
   ]
  },
  {
   "cell_type": "code",
   "execution_count": null,
   "id": "7e40b56a",
   "metadata": {},
   "outputs": [],
   "source": [
    "res= []\n",
    "for i in range(0,len(K)):\n",
    "    res.append(bs.implied_vol(S, K[i] ,r, q_ttm, T, 'call',price[i]))\n",
    "\n",
    "res = np.array(res)"
   ]
  },
  {
   "cell_type": "code",
   "execution_count": null,
   "id": "bbe6afc1",
   "metadata": {},
   "outputs": [],
   "source": [
    "fig, ax = plt.subplots(figsize=(8,5))\n",
    "mask = np.isfinite(res) & np.isfinite(impV) & (impV > 1e-4)\n",
    "Kp, resp, impVp = K[mask], res[mask], impV[mask]\n",
    "# Plot\n",
    "ax.plot(Kp, resp, marker='o', ms=3, lw=2.0, color='#1f77b4', label='Model')\n",
    "ax.plot(Kp, impVp, marker='o', ms=3, lw=2.0, color='#ff7f0e', label='Market (yfinance)')\n",
    "\n",
    "# ATM line\n",
    "ax.axvline(S, ls='--', lw=1, color='gray', alpha=0.7)\n",
    "ax.text(S+2, ax.get_ylim()[1]*0.95, \"ATM\", color='gray')\n",
    "\n",
    "# Labels\n",
    "ax.set_title(\"AAPL Implied Volatility Smile\", fontsize=14, weight='bold')\n",
    "ax.set_xlabel(\"Strike Price (K)\", fontsize=12)\n",
    "ax.set_ylabel(\"Implied Volatility\", fontsize=12)\n",
    "ax.yaxis.set_major_formatter(mtick.PercentFormatter(1.0))\n",
    "\n",
    "# Legend\n",
    "ax.legend(frameon=False, fontsize=11, loc=\"upper right\")\n",
    "\n",
    "# Grid\n",
    "ax.grid(True, alpha=0.3)\n",
    "\n",
    "# Tight layout\n",
    "plt.tight_layout()\n",
    "plt.show()"
   ]
  },
  {
   "cell_type": "code",
   "execution_count": null,
   "id": "fd3e4dec",
   "metadata": {},
   "outputs": [],
   "source": [
    "plt.figure(figsize=(8,5))\n",
    "\n",
    "plt.plot(Kp, np.abs(1 - resp/impVp), \n",
    "         marker='o', markersize=4, linewidth=1.2, \n",
    "         color='darkred', label='Relative Error vs yfinance IV')\n",
    "\n",
    "# Labels and title\n",
    "plt.xlabel(\"Strike Price (K)\", fontsize=12)\n",
    "plt.ylabel(\"Relative Error\", fontsize=12)\n",
    "plt.title(\"Validation of Implied Volatility Calculation\", fontsize=14, weight=\"bold\")\n",
    "\n",
    "# Log scale for error makes sense here\n",
    "plt.yscale('log')\n",
    "plt.ylim(1e-2, 0.6) \n",
    "\n",
    "# Grid + legend\n",
    "plt.grid(True, which=\"both\", linestyle=\"--\", alpha=0.6)\n",
    "plt.legend(fontsize=11)\n",
    "\n",
    "plt.tight_layout()\n",
    "plt.show()\n",
    "\n",
    "\n"
   ]
  }
 ],
 "metadata": {
  "language_info": {
   "name": "python"
  }
 },
 "nbformat": 4,
 "nbformat_minor": 5
}
